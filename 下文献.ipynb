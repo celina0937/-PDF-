{
 "cells": [
  {
   "cell_type": "code",
   "execution_count": 39,
   "id": "65a42879-c258-4cb3-9b74-a6718f6f62af",
   "metadata": {},
   "outputs": [
    {
     "name": "stdout",
     "output_type": "stream",
     "text": [
      "库导入成功！\n"
     ]
    }
   ],
   "source": [
    "from Bio import Entrez\n",
    "import requests\n",
    "\n",
    "print(\"库导入成功！\")\n",
    "\n"
   ]
  },
  {
   "cell_type": "code",
   "execution_count": 41,
   "id": "7cabfd0f-cc68-4a1c-885c-4b870bc19824",
   "metadata": {},
   "outputs": [],
   "source": [
    "import re\n",
    "\n",
    "def read_pmids_from_file(txt_file):\n",
    "    \"\"\"从TXT文件中提取PMID列表\"\"\"\n",
    "    try:\n",
    "        with open(txt_file, \"r\", encoding=\"utf-8\") as file:\n",
    "            pmids = []\n",
    "            for line in file:\n",
    "                # 使用正则表达式提取PMID\n",
    "                match = re.search(r'PMID:\\s*(\\d+)', line)\n",
    "                if match:\n",
    "                    pmids.append(match.group(1))  # 获取匹配到的PMID数字\n",
    "        print(f\"成功读取 {len(pmids)} 个PMID。\")\n",
    "        return pmids\n",
    "    except Exception as e:\n",
    "        print(f\"读取PMID文件时出错: {e}\")\n",
    "        return []\n"
   ]
  },
  {
   "cell_type": "code",
   "execution_count": 43,
   "id": "e06c1469-eaca-40f8-88b5-8a056f570408",
   "metadata": {},
   "outputs": [
    {
     "name": "stdout",
     "output_type": "stream",
     "text": [
      "成功读取 12 个PMID。\n",
      "提取到的 PMIDs: []\n"
     ]
    }
   ],
   "source": [
    "txt_file = \"summary-aging-set.txt\"  # 文件名为 summary-aging-set.txt\n",
    "pmids = read_pmids_from_file(txt_file)\n",
    "print(\"提取到的 PMIDs:\", pmids)"
   ]
  },
  {
   "cell_type": "code",
   "execution_count": 45,
   "id": "519bbd5d-5253-4057-b377-931f80a54fb7",
   "metadata": {},
   "outputs": [],
   "source": [
    "from Bio import Entrez\n",
    "# 设置邮箱\n",
    "Entrez.email = \"XXX.com\"  # 使用你的实际邮箱地址\n",
    "\n",
    "def fetch_article_links(pmids):\n",
    "    \"\"\"通过PMID列表获取全文链接\"\"\"\n",
    "    article_links = {}  # 存储有免费全文链接的PMID和对应链接\n",
    "    no_link_pmids = []  # 存储没有免费全文的PMIDs\n",
    "\n",
    "    for pmid in pmids:\n",
    "        try:\n",
    "            print(f\"正在查询 PMID: {pmid}\")\n",
    "            handle = Entrez.elink(dbfrom=\"pubmed\", id=pmid, linkname=\"pubmed_pmc\")\n",
    "            records = Entrez.read(handle)\n",
    "            handle.close()\n",
    "\n",
    "            # 检查是否有 PMC 免费全文链接\n",
    "            if records and records[0]['LinkSetDb']:\n",
    "                pmc_id = records[0]['LinkSetDb'][0]['Link'][0]['Id']\n",
    "                article_links[pmid] = f\"https://www.ncbi.nlm.nih.gov/pmc/articles/PMC{pmc_id}/pdf/\"\n",
    "            else:\n",
    "                no_link_pmids.append(pmid)  # 没有免费全文\n",
    "        except Exception as e:\n",
    "            print(f\"获取 PMID {pmid} 的链接时出错: {e}\")\n",
    "            no_link_pmids.append(pmid)  # 出错时也认为无链接\n",
    "\n",
    "    # 输出结果\n",
    "    print(\"\\n找到免费全文的 PMIDs:\", list(article_links.keys()))\n",
    "    print(\"未找到免费全文的 PMIDs:\", no_link_pmids)\n",
    "    return article_links\n"
   ]
  },
  {
   "cell_type": "code",
   "execution_count": 47,
   "id": "fedddb1b-8c43-4403-86c0-a4112c41d229",
   "metadata": {},
   "outputs": [
    {
     "name": "stdout",
     "output_type": "stream",
     "text": [
      "正在查询 PMID: 34990845\n",
      "'38310113': 'https://www.ncbi.nlm.nih.gov/pmc/articles/PMC10838307/pdf/'}\n"
     ]
    }
   ],
   "source": [
    "article_links = fetch_article_links(pmids)\n",
    "print(\"获取到的全文链接:\", article_links)\n"
   ]
  },
  {
   "cell_type": "code",
   "execution_count": 48,
   "id": "698d4cc4-cd1c-4f51-8d46-269e300a312f",
   "metadata": {},
   "outputs": [],
   "source": [
    "def download_pdf(pmid, link, output_dir):\n",
    "    \"\"\"下载单个PDF文件，模拟浏览器行为\"\"\"\n",
    "    headers = {\n",
    "        \"User-Agent\": \"Mozilla/5.0 (Windows NT 10.0; Win64; x64) AppleWebKit/537.36 (KHTML, like Gecko) Chrome/91.0.4472.124 Safari/537.36\"\n",
    "    }\n",
    "    try:\n",
    "        response = requests.get(link, headers=headers, stream=True)\n",
    "        if response.status_code == 200:\n",
    "            # 创建输出目录\n",
    "            os.makedirs(output_dir, exist_ok=True)\n",
    "            pdf_path = os.path.join(output_dir, f\"{pmid}.pdf\")\n",
    "            with open(pdf_path, \"wb\") as pdf_file:\n",
    "                for chunk in response.iter_content(chunk_size=1024):\n",
    "                    pdf_file.write(chunk)\n",
    "            print(f\"成功下载 PMID {pmid} 的 PDF: {pdf_path}\")\n",
    "        else:\n",
    "            print(f\"下载 PMID {pmid} 的 PDF 失败，状态码: {response.status_code}\")\n",
    "    except Exception as e:\n",
    "        print(f\"下载 PMID {pmid} 的 PDF 时出错: {e}\")\n"
   ]
  },
  {
   "cell_type": "code",
   "execution_count": 49,
   "id": "2a6ec24b-57c9-4f39-b193-44303abadd6f",
   "metadata": {},
   "outputs": [],
   "source": [
    "def download_all_pdfs(article_links, output_dir):\n",
    "    \"\"\"批量下载PDF文件\"\"\"\n",
    "    for pmid, link in article_links.items():\n",
    "        download_pdf(pmid, link, output_dir)\n"
   ]
  },
  {
   "cell_type": "code",
   "execution_count": 37,
   "id": "01e3e84d-4408-4250-a2bb-651b8ae71345",
   "metadata": {},
   "outputs": [
    {
     "name": "stdout",
     "output_type": "stream",
     "text": [
      "成功下载 PMID 34990845 的 PDF: D:\\Drivers\\下载\\34990845.pdf\n",
     ]
    }
   ],
   "source": [
    "# 指定保存目录\n",
    "output_dir = r\"D:\\Drivers\\下载\"  # 替换为你的保存目录\n",
    "\n",
    "# 批量下载 PDF\n",
    "download_all_pdfs(article_links, output_dir)\n"
   ]
  },
  {
   "cell_type": "code",
   "execution_count": null,
   "id": "84eadd57-e35a-4dba-bcc6-68a002c88b3c",
   "metadata": {},
   "outputs": [],
   "source": [
    "import os\n",
    "print(os.getcwd())  # 打印当前工作目录\n"
   ]
  },
  {
   "cell_type": "code",
   "execution_count": null,
   "id": "af37900e-4572-40db-a2f3-018371d5a9e9",
   "metadata": {},
   "outputs": [],
   "source": []
  }
 ],
 "metadata": {
  "kernelspec": {
   "display_name": "Python (experiment1)",
   "language": "python",
   "name": "experiment1"
  },
  "language_info": {
   "codemirror_mode": {
    "name": "ipython",
    "version": 3
   },
   "file_extension": ".py",
   "mimetype": "text/x-python",
   "name": "python",
   "nbconvert_exporter": "python",
   "pygments_lexer": "ipython3",
   "version": "3.9.19"
  }
 },
 "nbformat": 4,
 "nbformat_minor": 5
}
